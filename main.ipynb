{
 "cells": [
  {
   "cell_type": "markdown",
   "metadata": {},
   "source": [
    "# StrangleBot\n",
    "We are building a trading bot to execute short strangles and long strangles on S&P 500 companies based on features we can extract from yfinance data."
   ]
  },
  {
   "cell_type": "markdown",
   "metadata": {},
   "source": [
    "## Setup\n",
    "\n",
    "`git clone https://github.com/PeterFavero/cqf_final_project.git`\n",
    "\n",
    "`cd cqf_final_project`\n",
    "\n",
    "`python3 -m venv venv`\n",
    "\n",
    "MacOS/Linux: `source venv/bin/activate` or Windows: `venv\\Scripts\\activate`\n",
    "\n",
    "`pip install -r requirements.txt`"
   ]
  },
  {
   "cell_type": "code",
   "execution_count": 109,
   "metadata": {},
   "outputs": [],
   "source": [
    "# IMPORTS\n",
    "# ---------------------------------------------\n",
    "import yfinance as yf\n",
    "import pandas as pd\n",
    "import pytz\n",
    "import ssl\n",
    "from datetime import datetime, timedelta\n",
    "from tqdm import tqdm\n"
   ]
  },
  {
   "cell_type": "code",
   "execution_count": 110,
   "metadata": {},
   "outputs": [],
   "source": [
    "# ENVIROMENT CONFIGURATION\n",
    "# ---------------------------------------------\n",
    "ssl._create_default_https_context = ssl._create_unverified_context"
   ]
  },
  {
   "cell_type": "code",
   "execution_count": 111,
   "metadata": {},
   "outputs": [],
   "source": [
    "# CONSTANTS\n",
    "# ---------------------------------------------\n",
    "SP500_TICKER = \"^GSPC\"\n",
    "TEN_YEARS_AGO = pd.Timestamp(datetime.now() - timedelta(days=365*10)).replace(tzinfo=pytz.UTC)"
   ]
  },
  {
   "cell_type": "code",
   "execution_count": null,
   "metadata": {},
   "outputs": [],
   "source": [
    "# DATA: HELPER FUNCTIONS \n",
    "# ---------------------------------------------\n",
    "def ticker_listing_age(ticker, hist_dict) : \n",
    "    hist = hist_dict[ticker]\n",
    "    return hist.index[0]"
   ]
  },
  {
   "cell_type": "code",
   "execution_count": 112,
   "metadata": {},
   "outputs": [
    {
     "name": "stderr",
     "output_type": "stream",
     "text": [
      "Loading securities price history dataframes: 100%|██████████| 500/500 [01:09<00:00,  7.23it/s]\n"
     ]
    }
   ],
   "source": [
    "# S&P Data\n",
    "# ---------------------------------------------\n",
    "table = pd.read_html('https://en.wikipedia.org/wiki/List_of_S%26P_500_companies')\n",
    "sp500 = table[0]\n",
    "sp500_ticker_strings_list = [ticker for ticker in sp500['Symbol'].tolist() if \".\" not in ticker]\n",
    "sp500_ticker_objects_dict = {ticker : yf.Ticker(ticker) for ticker in sp500_ticker_strings_list if \".\" not in ticker}\n",
    "sp500_ticker_hists_dict = {ticker : yf.Ticker(ticker).history(period='10y') for ticker in tqdm(sp500_ticker_strings_list, desc=\"Loading securities price history dataframes\") if \".\" not in ticker}"
   ]
  }
 ],
 "metadata": {
  "kernelspec": {
   "display_name": "Python 3",
   "language": "python",
   "name": "python3"
  },
  "language_info": {
   "codemirror_mode": {
    "name": "ipython",
    "version": 3
   },
   "file_extension": ".py",
   "mimetype": "text/x-python",
   "name": "python",
   "nbconvert_exporter": "python",
   "pygments_lexer": "ipython3",
   "version": "3.12.2"
  }
 },
 "nbformat": 4,
 "nbformat_minor": 2
}
