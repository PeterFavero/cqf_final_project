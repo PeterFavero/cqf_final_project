{
 "cells": [
  {
   "cell_type": "markdown",
   "metadata": {},
   "source": [
    "# StrangleBot\n",
    "We are building a trading bot to execute short strangles and long strangles on S&P 500 companies based on features we can extract from yfinance data."
   ]
  },
  {
   "cell_type": "markdown",
   "metadata": {},
   "source": [
    "## Setup\n",
    "\n",
    "`git clone https://github.com/PeterFavero/cqf_final_project.git`\n",
    "\n",
    "`cd cqf_final_project`\n",
    "\n",
    "`python3 -m venv venv`\n",
    "\n",
    "MacOS/Linux: `source venv/bin/activate` or Windows: `venv\\Scripts\\activate`\n",
    "\n",
    "`pip3 install -r requirements.txt`"
   ]
  },
  {
   "cell_type": "code",
   "execution_count": 56,
   "metadata": {},
   "outputs": [],
   "source": [
    "# IMPORTS\n",
    "# ---------------------------------------------\n",
    "import yfinance as yf\n",
    "import pandas as pd\n",
    "import pytz\n",
    "import ssl\n",
    "from datetime import datetime, timedelta\n",
    "from tqdm import tqdm\n",
    "import sys\n",
    "import os\n",
    "import numpy as np"
   ]
  },
  {
   "cell_type": "code",
   "execution_count": 57,
   "metadata": {},
   "outputs": [],
   "source": [
    "# ENVIROMENT CONFIGURATION\n",
    "# ---------------------------------------------\n",
    "# This is nescessary for web scraping\n",
    "ssl._create_default_https_context = ssl._create_unverified_context"
   ]
  },
  {
   "cell_type": "code",
   "execution_count": 58,
   "metadata": {},
   "outputs": [],
   "source": [
    "# CONSTANTS\n",
    "# ---------------------------------------------\n",
    "SP500_TICKER = \"^GSPC\"\n",
    "TEN_YEARS_AGO = pd.Timestamp(datetime.now() - timedelta(days=365*10)).replace(tzinfo=pytz.UTC)\n",
    "ORIGINAL_STDOUT = sys.stdout\n",
    "SUPPRESSED_STDOUT = open(os.devnull, 'w')"
   ]
  },
  {
   "cell_type": "code",
   "execution_count": 59,
   "metadata": {},
   "outputs": [],
   "source": [
    "# DATA: HELPER FUNCTIONS \n",
    "# ---------------------------------------------\n",
    "\n",
    "def parse_nasdaqlist():\n",
    "    output_array = []  # Array to hold the extracted parts of lines\n",
    "    with open('data/nasdaqlisted.txt', 'r') as file:  # Open the file in read mode\n",
    "        next(file)  # Skip the first line\n",
    "        for line in file:  # Iterate through each line in the file after the first\n",
    "            # Find the position of the first '|' character\n",
    "            separator_index = line.find('|')\n",
    "            if separator_index != -1:  # If '|' is found\n",
    "                # Extract the part of the line before the '|' character\n",
    "                substring = line[:separator_index].strip()\n",
    "                output_array.append(substring)  # Append to the output array\n",
    "            else:\n",
    "                # Handle cases where there is no '|'\n",
    "                output_array.append(line.strip())\n",
    "    return output_array\n",
    "\n",
    "def ticker_listing_age(ticker, hist_dict) : \n",
    "    hist = hist_dict[ticker]\n",
    "    return hist.index[0]\n",
    "\n",
    "def data_of_tickers(full_ticker_strings_list) :\n",
    "    cleaned_ticker_strings_list =  [ticker for ticker in full_ticker_strings_list if \".\" not in ticker]\n",
    "    cleaned_ticker_objects_dict = {}\n",
    "    cleaned_ticker_hists_dict = {}\n",
    "    delisted_ticker_strings_list = []\n",
    "    for ticker in tqdm(cleaned_ticker_strings_list, desc=\"Downloading price history data\") :\n",
    "        try :\n",
    "            cleaned_ticker_objects_dict[ticker] = yf.Ticker(ticker)\n",
    "            cleaned_ticker_hists_dict[ticker] = cleaned_ticker_objects_dict[ticker].history(period='2y')\n",
    "        except Exception as _ :\n",
    "            delisted_ticker_strings_list.appened(ticker)\n",
    "    return cleaned_ticker_strings_list, cleaned_ticker_objects_dict, cleaned_ticker_hists_dict, delisted_ticker_strings_list\n"
   ]
  },
  {
   "cell_type": "code",
   "execution_count": 60,
   "metadata": {},
   "outputs": [],
   "source": [
    "# DATA: GET TICKERS LIST\n",
    "# ---------------------------------------------\n",
    "\n",
    "sp500_unprocessed = pd.read_html('https://en.wikipedia.org/wiki/List_of_S%26P_500_companies')[0]['Symbol'].to_list()\n",
    "nasdaq_unprocessed = parse_nasdaqlist()\n",
    "sp500_and_nasdaq_unprocessed = list( set(sp500_unprocessed) | set(nasdaq_unprocessed) )"
   ]
  },
  {
   "cell_type": "code",
   "execution_count": 61,
   "metadata": {},
   "outputs": [
    {
     "name": "stderr",
     "output_type": "stream",
     "text": [
      "Downloading price history data:  11%|█         | 578/5233 [01:03<08:24,  9.23it/s]WTMAR: Period '2y' is invalid, must be one of ['1d', '5d']\n",
      "Downloading price history data:  12%|█▏        | 640/5233 [01:09<07:34, 10.12it/s]EMCGR: Period '2y' is invalid, must be one of ['1d', '5d']\n",
      "Downloading price history data:  13%|█▎        | 659/5233 [01:12<09:22,  8.14it/s]YOTAR: Period '2y' is invalid, must be one of ['1d', '5d']\n",
      "Downloading price history data:  16%|█▌        | 821/5233 [01:29<08:01,  9.16it/s]DYCQR: Period '2y' is invalid, must be one of ['1d', '5d']\n",
      "Downloading price history data:  16%|█▌        | 837/5233 [01:31<07:57,  9.21it/s]AIBBR: Period '2y' is invalid, must be one of ['1d', '5d']\n",
      "Downloading price history data:  17%|█▋        | 893/5233 [01:37<07:35,  9.52it/s]KACLR: Period '2y' is invalid, must be one of ['1d', '5d']\n",
      "Downloading price history data:  17%|█▋        | 906/5233 [01:39<08:02,  8.98it/s]NNAGR: Period '2y' is invalid, must be one of ['1d', '5d']\n",
      "Downloading price history data:  22%|██▏       | 1174/5233 [02:07<07:56,  8.52it/s]GLSTR: Period '2y' is invalid, must be one of ['1d', '5d']\n",
      "Downloading price history data:  24%|██▍       | 1282/5233 [02:19<08:03,  8.17it/s]WINVR: Period '2y' is invalid, must be one of ['1d', '5d']\n",
      "Downloading price history data:  33%|███▎      | 1702/5233 [03:05<06:06,  9.62it/s]IROHR: Period '2y' is invalid, must be one of ['1d', '5d']\n",
      "Downloading price history data:  33%|███▎      | 1706/5233 [03:06<06:09,  9.54it/s]QOMOR: Period '2y' is invalid, must be one of ['1d', '5d']\n",
      "Downloading price history data:  34%|███▎      | 1756/5233 [03:11<05:58,  9.70it/s]MCACR: Period '2y' is invalid, must be one of ['1d', '5d']\n",
      "Downloading price history data:  34%|███▍      | 1778/5233 [03:14<06:35,  8.73it/s]ESHAR: Period '2y' is invalid, must be one of ['1d', '5d']\n",
      "Downloading price history data:  35%|███▌      | 1844/5233 [03:21<06:11,  9.13it/s]HHGCR: Period '2y' is invalid, must be one of ['1d', '5d']\n",
      "Downloading price history data:  37%|███▋      | 1916/5233 [03:29<05:33,  9.95it/s]GLLIR: Period '2y' is invalid, must be one of ['1d', '5d']\n",
      "Downloading price history data:  39%|███▉      | 2028/5233 [03:41<06:06,  8.73it/s]ASCBR: Period '2y' is invalid, must be one of ['1d', '5d']\n",
      "Downloading price history data:  39%|███▉      | 2046/5233 [03:43<06:11,  8.57it/s]AFJKR: Period '2y' is invalid, must be one of ['1d', '5d']\n",
      "Downloading price history data:  40%|███▉      | 2083/5233 [03:47<05:15,  9.97it/s]TMTCR: Period '2y' is invalid, must be one of ['1d', '5d']\n",
      "Downloading price history data:  42%|████▏     | 2194/5233 [03:58<05:03, 10.00it/s]ZWZZT: Period '2y' is invalid, must be one of ['1d', '5d']\n",
      "Downloading price history data:  43%|████▎     | 2274/5233 [04:07<05:34,  8.84it/s]ZBZZT: No data found, symbol may be delisted\n",
      "Downloading price history data:  46%|████▋     | 2429/5233 [04:25<05:23,  8.68it/s]GDSTR: Period '2y' is invalid, must be one of ['1d', '5d']\n",
      "Downloading price history data:  47%|████▋     | 2445/5233 [04:26<04:10, 11.12it/s]ATMCR: Period '2y' is invalid, must be one of ['1d', '5d']\n",
      "Downloading price history data:  48%|████▊     | 2498/5233 [04:32<04:29, 10.13it/s]CLOER: Period '2y' is invalid, must be one of ['1d', '5d']\n",
      "Downloading price history data:  49%|████▉     | 2576/5233 [04:40<04:05, 10.82it/s]CNFRZ: Period '2y' is invalid, must be one of ['1d', '5d']\n",
      "Downloading price history data:  51%|█████     | 2662/5233 [04:49<04:58,  8.62it/s]ZJZZT: Period '2y' is invalid, must be one of ['1d', '5d']\n",
      "Downloading price history data:  53%|█████▎    | 2775/5233 [05:02<05:07,  7.98it/s]NVACR: Period '2y' is invalid, must be one of ['1d', '5d']\n",
      "Downloading price history data:  53%|█████▎    | 2793/5233 [05:04<04:15,  9.56it/s]BAYAR: Period '2y' is invalid, must be one of ['1d', '5d']\n",
      "Downloading price history data:  58%|█████▊    | 3058/5233 [05:32<04:17,  8.46it/s]ATMVR: Period '2y' is invalid, must be one of ['1d', '5d']\n",
      "Downloading price history data:  59%|█████▉    | 3086/5233 [05:35<03:43,  9.61it/s]BUJAR: Period '2y' is invalid, must be one of ['1d', '5d']\n",
      "Downloading price history data:  61%|██████    | 3181/5233 [05:45<04:27,  7.67it/s]IBACR: Period '2y' is invalid, must be one of ['1d', '5d']\n",
      "Downloading price history data:  61%|██████    | 3184/5233 [05:45<03:49,  8.91it/s]MSSAR: Period '2y' is invalid, must be one of ['1d', '5d']\n",
      "Downloading price history data:  61%|██████    | 3191/5233 [05:46<03:24,  9.98it/s]IMAQR: Period '2y' is invalid, must be one of ['1d', '5d']\n",
      "Downloading price history data:  62%|██████▏   | 3235/5233 [05:51<03:37,  9.17it/s]ZXZZT: Period '2y' is invalid, must be one of ['1d', '5d']\n",
      "Downloading price history data:  63%|██████▎   | 3312/5233 [05:59<03:17,  9.75it/s]FILE CREATION TIME: 0503202421:31: No data found, symbol may be delisted\n",
      "Downloading price history data:  64%|██████▍   | 3374/5233 [06:08<03:39,  8.46it/s]AITRR: Period '2y' is invalid, must be one of ['1d', '5d']\n",
      "Downloading price history data:  65%|██████▌   | 3420/5233 [06:13<03:30,  8.62it/s]TENKR: Period '2y' is invalid, must be one of ['1d', '5d']\n",
      "Downloading price history data:  69%|██████▉   | 3608/5233 [06:33<02:59,  9.05it/s]BWAQR: Period '2y' is invalid, must be one of ['1d', '5d']\n",
      "Downloading price history data:  69%|██████▉   | 3610/5233 [06:33<03:00,  9.00it/s]JVSAR: Period '2y' is invalid, must be one of ['1d', '5d']\n",
      "Downloading price history data:  69%|██████▉   | 3612/5233 [06:34<02:56,  9.20it/s]CSLMR: Period '2y' is invalid, must be one of ['1d', '5d']\n",
      "Downloading price history data:  69%|██████▉   | 3622/5233 [06:35<02:56,  9.12it/s]CETUR: Period '2y' is invalid, must be one of ['1d', '5d']\n",
      "Downloading price history data:  71%|███████   | 3724/5233 [06:46<02:33,  9.81it/s]DISTR: Period '2y' is invalid, must be one of ['1d', '5d']\n",
      "Downloading price history data:  73%|███████▎  | 3797/5233 [06:53<02:21, 10.16it/s]RWODR: Period '2y' is invalid, must be one of ['1d', '5d']\n",
      "Downloading price history data:  75%|███████▌  | 3941/5233 [07:09<02:11,  9.84it/s]GECCZ: Period '2y' is invalid, must be one of ['1d', '5d']\n",
      "Downloading price history data:  76%|███████▌  | 3959/5233 [07:10<02:23,  8.90it/s]BRACR: Period '2y' is invalid, must be one of ['1d', '5d']\n",
      "Downloading price history data:  76%|███████▋  | 3995/5233 [07:14<01:52, 10.98it/s]RFACR: Period '2y' is invalid, must be one of ['1d', '5d']\n",
      "Downloading price history data:  77%|███████▋  | 4005/5233 [07:15<01:55, 10.61it/s]GODNR: Period '2y' is invalid, must be one of ['1d', '5d']\n",
      "Downloading price history data:  79%|███████▊  | 4113/5233 [07:27<02:06,  8.86it/s]SVIIR: Period '2y' is invalid, must be one of ['1d', '5d']\n",
      "Downloading price history data:  81%|████████  | 4243/5233 [07:41<01:42,  9.63it/s]HSPOR: Period '2y' is invalid, must be one of ['1d', '5d']\n",
      "Downloading price history data:  81%|████████▏ | 4253/5233 [07:42<01:38,  9.91it/s]BNIXR: Period '2y' is invalid, must be one of ['1d', '5d']\n",
      "Downloading price history data:  84%|████████▍ | 4408/5233 [07:58<01:15, 10.87it/s]GLACR: Period '2y' is invalid, must be one of ['1d', '5d']\n",
      "Downloading price history data:  86%|████████▌ | 4476/5233 [08:07<01:50,  6.86it/s]MCAGR: Period '2y' is invalid, must be one of ['1d', '5d']\n",
      "Downloading price history data:  86%|████████▌ | 4495/5233 [08:09<01:12, 10.15it/s]BREZR: Period '2y' is invalid, must be one of ['1d', '5d']\n",
      "Downloading price history data:  86%|████████▋ | 4515/5233 [08:11<01:17,  9.28it/s]CLRCR: Period '2y' is invalid, must be one of ['1d', '5d']\n",
      "Downloading price history data:  87%|████████▋ | 4536/5233 [08:13<01:19,  8.77it/s]ZVZZT: Period '2y' is invalid, must be one of ['1d', '5d']\n",
      "Downloading price history data:  87%|████████▋ | 4550/5233 [08:15<01:18,  8.71it/s]BOWNR: Period '2y' is invalid, must be one of ['1d', '5d']\n",
      "Downloading price history data:  89%|████████▉ | 4652/5233 [08:25<00:58,  9.96it/s]BLACR: Period '2y' is invalid, must be one of ['1d', '5d']\n",
      "Downloading price history data:  90%|████████▉ | 4687/5233 [08:29<00:57,  9.54it/s]ALSAR: Period '2y' is invalid, must be one of ['1d', '5d']\n",
      "Downloading price history data:  90%|█████████ | 4722/5233 [08:33<01:07,  7.53it/s]MARXR: Period '2y' is invalid, must be one of ['1d', '5d']\n",
      "Downloading price history data:  90%|█████████ | 4734/5233 [08:35<01:11,  6.96it/s]BLEUR: Period '2y' is invalid, must be one of ['1d', '5d']\n",
      "Downloading price history data:  93%|█████████▎| 4847/5233 [08:47<00:41,  9.34it/s]QETAR: Period '2y' is invalid, must be one of ['1d', '5d']\n",
      "Downloading price history data:  93%|█████████▎| 4856/5233 [08:48<00:37, 10.14it/s]ZCZZT: No data found, symbol may be delisted\n",
      "Downloading price history data:  94%|█████████▎| 4899/5233 [08:54<00:34,  9.63it/s]NOVVR: Period '2y' is invalid, must be one of ['1d', '5d']\n",
      "Downloading price history data:  94%|█████████▎| 4901/5233 [08:54<00:32, 10.19it/s]FLFVR: Period '2y' is invalid, must be one of ['1d', '5d']\n",
      "Downloading price history data:  95%|█████████▌| 4980/5233 [09:03<00:25, 10.08it/s]FEXDR: Period '2y' is invalid, must be one of ['1d', '5d']\n",
      "Downloading price history data:  97%|█████████▋| 5052/5233 [09:12<00:21,  8.59it/s]AQUNR: Period '2y' is invalid, must be one of ['1d', '5d']\n",
      "Downloading price history data:  97%|█████████▋| 5084/5233 [09:16<00:15,  9.52it/s]ZAZZT: No data found, symbol may be delisted\n",
      "Downloading price history data: 100%|██████████| 5233/5233 [09:33<00:00,  9.12it/s]\n"
     ]
    }
   ],
   "source": [
    "# DATA: DATA LOADING\n",
    "# ---------------------------------------------\n",
    "\n",
    "ticker_strings_list, ticker_objects_dict, ticker_hists_dict, delisted_ticker_strings_list = data_of_tickers(sp500_and_nasdaq_unprocessed)"
   ]
  },
  {
   "cell_type": "code",
   "execution_count": null,
   "metadata": {},
   "outputs": [],
   "source": [
    "# DATA ANALYSIS: HELPER FUNCTIONS\n",
    "# ---------------------------------------------\n",
    "\n",
    "def calculate_single_historical_volatility(ticker, start_date, end_date):\n",
    "    \"\"\"\n",
    "    Calculate the historical volatility for a given stock ticker over the entire specified period.\n",
    "    Parameters:\n",
    "    ticker (str): Stock ticker symbol.\n",
    "    start_date (str): Start date for data retrieval (format: 'YYYY-MM-DD').\n",
    "    end_date (str): End date for data retrieval (format: 'YYYY-MM-DD').\n",
    "    Returns:\n",
    "    float: Historical volatility over the specified period.\n",
    "    \"\"\"\n",
    "    # Fetch historical stock data\n",
    "    data = yf.download(ticker, start=start_date, end=end_date)\n",
    "    # Calculate daily returns\n",
    "    data['returns'] = np.log(data['Adj Close'] / data['Adj Close'].shift(1))\n",
    "    # Calculate the standard deviation of returns\n",
    "    volatility = data['returns'].std() * np.sqrt(252)  # Annualize the volatility\n",
    "    return volatility"
   ]
  }
 ],
 "metadata": {
  "kernelspec": {
   "display_name": "Python 3",
   "language": "python",
   "name": "python3"
  },
  "language_info": {
   "codemirror_mode": {
    "name": "ipython",
    "version": 3
   },
   "file_extension": ".py",
   "mimetype": "text/x-python",
   "name": "python",
   "nbconvert_exporter": "python",
   "pygments_lexer": "ipython3",
   "version": "3.12.2"
  }
 },
 "nbformat": 4,
 "nbformat_minor": 2
}
