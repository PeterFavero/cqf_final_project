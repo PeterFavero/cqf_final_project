{
 "cells": [
  {
   "cell_type": "markdown",
   "metadata": {},
   "source": [
    "# StrangleBot\n",
    "We are building a trading bot to execute short strangles and long strangles on S&P 500 companies based on features we can extract from yfinance data."
   ]
  },
  {
   "cell_type": "markdown",
   "metadata": {},
   "source": [
    "## Setup\n",
    "\n",
    "`git clone https://github.com/PeterFavero/cqf_final_project.git`\n",
    "\n",
    "`cd cqf_final_project`\n",
    "\n",
    "`python3 -m venv venv`\n",
    "\n",
    "MacOS/Linux: `source venv/bin/activate` or Windows: `venv\\Scripts\\activate`\n",
    "\n",
    "`pip3 install -r requirements.txt`"
   ]
  },
  {
   "cell_type": "code",
   "execution_count": 127,
   "metadata": {},
   "outputs": [],
   "source": [
    "# IMPORTS\n",
    "# ---------------------------------------------\n",
    "\n",
    "import yfinance as yf\n",
    "import pandas as pd\n",
    "import pytz\n",
    "import ssl\n",
    "from datetime import datetime, timedelta\n",
    "from tqdm import tqdm\n",
    "import sys\n",
    "import os\n",
    "import numpy as np"
   ]
  },
  {
   "cell_type": "code",
   "execution_count": 128,
   "metadata": {},
   "outputs": [],
   "source": [
    "# ENVIROMENT CONFIGURATION\n",
    "# ---------------------------------------------\n",
    "# This is nescessary for web scraping\n",
    "\n",
    "ssl._create_default_https_context = ssl._create_unverified_context"
   ]
  },
  {
   "cell_type": "code",
   "execution_count": 129,
   "metadata": {},
   "outputs": [],
   "source": [
    "# DATA: HELPER FUNCTIONS \n",
    "# ---------------------------------------------\n",
    "\n",
    "def std_of_history(price_hist):\n",
    "    price_hist['Returns'] = np.log(price_hist['Close'] / price_hist['Close'].shift(1))  # Calculate daily returns\n",
    "    price_hist.drop(price_hist.index[0], inplace=True)\n",
    "    volatility = price_hist['Returns'].std() * np.sqrt(252)  # Calculate the standard deviation of returns, annualizing the volatility\n",
    "    return volatility\n",
    "\n",
    "def data_of_tickers(full_ticker_strings_list) :\n",
    "    cleaned_ticker_strings_list =  [ticker for ticker in full_ticker_strings_list if \".\" not in ticker]\n",
    "    vol_dict = {}\n",
    "    yf_dict = {}\n",
    "    history_dict = {}\n",
    "    for ticker in tqdm(cleaned_ticker_strings_list, desc=\"Downloading price history data\") :\n",
    "        yf_dict[ticker] = yf.Ticker(ticker)\n",
    "        history_dict[ticker] = yf_dict[ticker].history(period='2y').drop('Dividends', axis=1).drop('Stock Splits', axis=1)\n",
    "        annualized_volatility = std_of_history(history_dict[ticker])\n",
    "        vol_dict[ticker] = annualized_volatility\n",
    "    return cleaned_ticker_strings_list, vol_dict, yf_dict, history_dict \n"
   ]
  },
  {
   "cell_type": "code",
   "execution_count": 130,
   "metadata": {},
   "outputs": [],
   "source": [
    "# DATA: GET TICKERS LIST\n",
    "# ---------------------------------------------\n",
    "\n",
    "sp500_unprocessed = pd.read_html('https://en.wikipedia.org/wiki/List_of_S%26P_500_companies')[0]['Symbol'].to_list()"
   ]
  },
  {
   "cell_type": "code",
   "execution_count": 131,
   "metadata": {},
   "outputs": [
    {
     "name": "stderr",
     "output_type": "stream",
     "text": [
      "Downloading price history data: 100%|██████████| 500/500 [00:50<00:00,  9.91it/s]\n"
     ]
    }
   ],
   "source": [
    "# DATA: DATA LOADING\n",
    "# ---------------------------------------------\n",
    "\n",
    "tickers_list, vol_dict, yf_dict, history_dict = data_of_tickers(sp500_unprocessed)"
   ]
  },
  {
   "cell_type": "code",
   "execution_count": 132,
   "metadata": {},
   "outputs": [
    {
     "data": {
      "text/html": [
       "<div>\n",
       "<style scoped>\n",
       "    .dataframe tbody tr th:only-of-type {\n",
       "        vertical-align: middle;\n",
       "    }\n",
       "\n",
       "    .dataframe tbody tr th {\n",
       "        vertical-align: top;\n",
       "    }\n",
       "\n",
       "    .dataframe thead th {\n",
       "        text-align: right;\n",
       "    }\n",
       "</style>\n",
       "<table border=\"1\" class=\"dataframe\">\n",
       "  <thead>\n",
       "    <tr style=\"text-align: right;\">\n",
       "      <th></th>\n",
       "      <th>Open</th>\n",
       "      <th>High</th>\n",
       "      <th>Low</th>\n",
       "      <th>Close</th>\n",
       "      <th>Volume</th>\n",
       "      <th>Returns</th>\n",
       "    </tr>\n",
       "    <tr>\n",
       "      <th>Date</th>\n",
       "      <th></th>\n",
       "      <th></th>\n",
       "      <th></th>\n",
       "      <th></th>\n",
       "      <th></th>\n",
       "      <th></th>\n",
       "    </tr>\n",
       "  </thead>\n",
       "  <tbody>\n",
       "    <tr>\n",
       "      <th>2022-05-05 00:00:00-04:00</th>\n",
       "      <td>112.654598</td>\n",
       "      <td>113.007631</td>\n",
       "      <td>109.021293</td>\n",
       "      <td>109.925941</td>\n",
       "      <td>3965816</td>\n",
       "      <td>-0.031416</td>\n",
       "    </tr>\n",
       "    <tr>\n",
       "      <th>2022-05-06 00:00:00-04:00</th>\n",
       "      <td>109.786190</td>\n",
       "      <td>110.153933</td>\n",
       "      <td>107.888634</td>\n",
       "      <td>109.977417</td>\n",
       "      <td>2954479</td>\n",
       "      <td>0.000468</td>\n",
       "    </tr>\n",
       "    <tr>\n",
       "      <th>2022-05-09 00:00:00-04:00</th>\n",
       "      <td>109.175731</td>\n",
       "      <td>113.095883</td>\n",
       "      <td>108.807987</td>\n",
       "      <td>112.073555</td>\n",
       "      <td>4979068</td>\n",
       "      <td>0.018880</td>\n",
       "    </tr>\n",
       "    <tr>\n",
       "      <th>2022-05-10 00:00:00-04:00</th>\n",
       "      <td>113.265044</td>\n",
       "      <td>113.294466</td>\n",
       "      <td>108.955089</td>\n",
       "      <td>109.675865</td>\n",
       "      <td>4189827</td>\n",
       "      <td>-0.021626</td>\n",
       "    </tr>\n",
       "    <tr>\n",
       "      <th>2022-05-11 00:00:00-04:00</th>\n",
       "      <td>110.315744</td>\n",
       "      <td>110.418713</td>\n",
       "      <td>107.506185</td>\n",
       "      <td>107.682701</td>\n",
       "      <td>3286608</td>\n",
       "      <td>-0.018340</td>\n",
       "    </tr>\n",
       "    <tr>\n",
       "      <th>...</th>\n",
       "      <td>...</td>\n",
       "      <td>...</td>\n",
       "      <td>...</td>\n",
       "      <td>...</td>\n",
       "      <td>...</td>\n",
       "      <td>...</td>\n",
       "    </tr>\n",
       "    <tr>\n",
       "      <th>2024-04-29 00:00:00-04:00</th>\n",
       "      <td>91.559998</td>\n",
       "      <td>92.620003</td>\n",
       "      <td>91.559998</td>\n",
       "      <td>92.160004</td>\n",
       "      <td>4905000</td>\n",
       "      <td>0.003587</td>\n",
       "    </tr>\n",
       "    <tr>\n",
       "      <th>2024-04-30 00:00:00-04:00</th>\n",
       "      <td>95.730003</td>\n",
       "      <td>97.839996</td>\n",
       "      <td>93.779999</td>\n",
       "      <td>96.510002</td>\n",
       "      <td>16731900</td>\n",
       "      <td>0.046120</td>\n",
       "    </tr>\n",
       "    <tr>\n",
       "      <th>2024-05-01 00:00:00-04:00</th>\n",
       "      <td>98.099998</td>\n",
       "      <td>99.699997</td>\n",
       "      <td>97.279999</td>\n",
       "      <td>98.440002</td>\n",
       "      <td>11062600</td>\n",
       "      <td>0.019801</td>\n",
       "    </tr>\n",
       "    <tr>\n",
       "      <th>2024-05-02 00:00:00-04:00</th>\n",
       "      <td>97.959999</td>\n",
       "      <td>98.400002</td>\n",
       "      <td>96.650002</td>\n",
       "      <td>96.809998</td>\n",
       "      <td>6317100</td>\n",
       "      <td>-0.016697</td>\n",
       "    </tr>\n",
       "    <tr>\n",
       "      <th>2024-05-03 00:00:00-04:00</th>\n",
       "      <td>97.580002</td>\n",
       "      <td>98.190002</td>\n",
       "      <td>96.839996</td>\n",
       "      <td>97.150002</td>\n",
       "      <td>4414570</td>\n",
       "      <td>0.003506</td>\n",
       "    </tr>\n",
       "  </tbody>\n",
       "</table>\n",
       "<p>502 rows × 6 columns</p>\n",
       "</div>"
      ],
      "text/plain": [
       "                                 Open        High         Low       Close  \\\n",
       "Date                                                                        \n",
       "2022-05-05 00:00:00-04:00  112.654598  113.007631  109.021293  109.925941   \n",
       "2022-05-06 00:00:00-04:00  109.786190  110.153933  107.888634  109.977417   \n",
       "2022-05-09 00:00:00-04:00  109.175731  113.095883  108.807987  112.073555   \n",
       "2022-05-10 00:00:00-04:00  113.265044  113.294466  108.955089  109.675865   \n",
       "2022-05-11 00:00:00-04:00  110.315744  110.418713  107.506185  107.682701   \n",
       "...                               ...         ...         ...         ...   \n",
       "2024-04-29 00:00:00-04:00   91.559998   92.620003   91.559998   92.160004   \n",
       "2024-04-30 00:00:00-04:00   95.730003   97.839996   93.779999   96.510002   \n",
       "2024-05-01 00:00:00-04:00   98.099998   99.699997   97.279999   98.440002   \n",
       "2024-05-02 00:00:00-04:00   97.959999   98.400002   96.650002   96.809998   \n",
       "2024-05-03 00:00:00-04:00   97.580002   98.190002   96.839996   97.150002   \n",
       "\n",
       "                             Volume   Returns  \n",
       "Date                                           \n",
       "2022-05-05 00:00:00-04:00   3965816 -0.031416  \n",
       "2022-05-06 00:00:00-04:00   2954479  0.000468  \n",
       "2022-05-09 00:00:00-04:00   4979068  0.018880  \n",
       "2022-05-10 00:00:00-04:00   4189827 -0.021626  \n",
       "2022-05-11 00:00:00-04:00   3286608 -0.018340  \n",
       "...                             ...       ...  \n",
       "2024-04-29 00:00:00-04:00   4905000  0.003587  \n",
       "2024-04-30 00:00:00-04:00  16731900  0.046120  \n",
       "2024-05-01 00:00:00-04:00  11062600  0.019801  \n",
       "2024-05-02 00:00:00-04:00   6317100 -0.016697  \n",
       "2024-05-03 00:00:00-04:00   4414570  0.003506  \n",
       "\n",
       "[502 rows x 6 columns]"
      ]
     },
     "execution_count": 132,
     "metadata": {},
     "output_type": "execute_result"
    }
   ],
   "source": [
    "history_dict['MMM']"
   ]
  },
  {
   "cell_type": "code",
   "execution_count": 133,
   "metadata": {},
   "outputs": [
    {
     "name": "stdout",
     "output_type": "stream",
     "text": [
      "0.28701395668747853\n"
     ]
    }
   ],
   "source": [
    "print(vol_dict['MMM'])"
   ]
  }
 ],
 "metadata": {
  "kernelspec": {
   "display_name": "Python 3",
   "language": "python",
   "name": "python3"
  },
  "language_info": {
   "codemirror_mode": {
    "name": "ipython",
    "version": 3
   },
   "file_extension": ".py",
   "mimetype": "text/x-python",
   "name": "python",
   "nbconvert_exporter": "python",
   "pygments_lexer": "ipython3",
   "version": "3.12.2"
  }
 },
 "nbformat": 4,
 "nbformat_minor": 2
}
